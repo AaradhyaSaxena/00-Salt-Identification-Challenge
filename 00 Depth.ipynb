{
 "cells": [
  {
   "cell_type": "markdown",
   "metadata": {},
   "source": [
    "# Working on depth"
   ]
  },
  {
   "cell_type": "code",
   "execution_count": 1,
   "metadata": {},
   "outputs": [
    {
     "name": "stderr",
     "output_type": "stream",
     "text": [
      "Using TensorFlow backend.\n"
     ]
    }
   ],
   "source": [
    "import os\n",
    "import sys\n",
    "import random\n",
    "import warnings\n",
    "\n",
    "import pandas as pd\n",
    "import matplotlib.pyplot as plt\n",
    "import numpy as np\n",
    "import cv2\n",
    "%matplotlib inline\n",
    "\n",
    "from tqdm import tqdm_notebook, tnrange\n",
    "from itertools import chain\n",
    "from skimage.io import imread, imshow, concatenate_images\n",
    "from skimage.transform import resize\n",
    "from skimage.morphology import label\n",
    "\n",
    "from keras.preprocessing.image import ImageDataGenerator, array_to_img, img_to_array, load_img"
   ]
  },
  {
   "cell_type": "code",
   "execution_count": 2,
   "metadata": {},
   "outputs": [
    {
     "data": {
      "image/png": "[encoded data removed]",
      "text/plain": [
       "<Figure size 432x288 with 1 Axes>"
      ]
     },
     "metadata": {},
     "output_type": "display_data"
    }
   ],
   "source": [
    "imgsd = cv2.imread('data/train/masks/0aabdb423e.png')\n",
    "\n",
    "gray = cv2.cvtColor(imgsd, cv2.COLOR_BGR2GRAY)\n",
    "\n",
    "plt.imshow(gray)\n",
    "plt.title('salt-dome-mask-gray')\n",
    "# plt.imshow(imgsd)\n",
    "# plt.title('salt-dome-mask-bw')\n",
    "plt.show()"
   ]
  },
  {
   "cell_type": "code",
   "execution_count": 3,
   "metadata": {},
   "outputs": [
    {
     "name": "stdout",
     "output_type": "stream",
     "text": [
      "(101, 101)\n",
      "[[  0   0   0 ...,   0   0   0]\n",
      " [  0   0   0 ...,   0   0   0]\n",
      " [  0   0   0 ...,   0   0   0]\n",
      " ..., \n",
      " [255 255 255 ..., 255 255 255]\n",
      " [255 255 255 ..., 255 255 255]\n",
      " [255 255 255 ..., 255 255 255]]\n"
     ]
    }
   ],
   "source": [
    "print(gray.shape)\n",
    "# We converted it to grayscale so that, we have to deal with one channel\n",
    "print(gray)"
   ]
  },
  {
   "cell_type": "code",
   "execution_count": 4,
   "metadata": {},
   "outputs": [
    {
     "name": "stdout",
     "output_type": "stream",
     "text": [
      "['000e218f21.png', '003c477d7c.png', '00441f1cf2.png', '0050766ae2.png', '005b452274.png', '0061281eea.png', '008a50a2ec.png', '00950d1627.png', '00a3af90ab.png', '00cda0328c.png']\n"
     ]
    }
   ],
   "source": [
    "path_train = 'data/train/'\n",
    "train_ids = next(os.walk(path_train+\"masks\"))[2]\n",
    "# Reading the names of each file in the path\n",
    "\n",
    "print(train_ids[:10])"
   ]
  },
  {
   "cell_type": "code",
   "execution_count": 5,
   "metadata": {
    "scrolled": true
   },
   "outputs": [
    {
     "data": {
      "application/vnd.jupyter.widget-view+json": {
       "model_id": "485ab0ba562f45e58a22001466859012",
       "version_major": 2,
       "version_minor": 0
      },
      "text/plain": [
       "HBox(children=(IntProgress(value=0, max=4000), HTML(value='')))"
      ]
     },
     "metadata": {},
     "output_type": "display_data"
    },
    {
     "name": "stdout",
     "output_type": "stream",
     "text": [
      "\n"
     ]
    }
   ],
   "source": [
    "mask_array = []\n",
    "\n",
    "for n, id_ in tqdm_notebook(enumerate(train_ids), total=len(train_ids)):\n",
    "    path = path_train\n",
    "    mask = load_img(path + '/masks/' + id_)\n",
    "    x = img_to_array(mask)[:,:,1]\n",
    "    mask_array.append(x)"
   ]
  },
  {
   "cell_type": "markdown",
   "metadata": {},
   "source": [
    "We will be taking the mask shown below for all references of work on a single image from now onwards."
   ]
  },
  {
   "cell_type": "code",
   "execution_count": 20,
   "metadata": {},
   "outputs": [
    {
     "data": {
      "text/plain": [
       "<matplotlib.image.AxesImage at 0x202167d2710>"
      ]
     },
     "execution_count": 20,
     "metadata": {},
     "output_type": "execute_result"
    },
    {
     "data": {
      "image/png": "[encoded data removed]",
      "text/plain": [
       "<Figure size 432x288 with 1 Axes>"
      ]
     },
     "metadata": {},
     "output_type": "display_data"
    }
   ],
   "source": [
    "plt.imshow(m_array[21])"
   ]
  },
  {
   "cell_type": "code",
   "execution_count": 6,
   "metadata": {},
   "outputs": [
    {
     "name": "stdout",
     "output_type": "stream",
     "text": [
      "[   0.    0.    0.    0.    0.    0.    0.    0.    0.    0.    0.    0.\n",
      "    0.    0.    0.    0.    0.    0.    0.    0.    0.    0.    0.    0.\n",
      "    0.    0.    0.    0.    0.    0.    0.    0.    0.    0.    0.    0.\n",
      "    0.    0.    0.    0.  255.  255.  255.  255.  255.  255.  255.  255.\n",
      "  255.  255.  255.  255.  255.  255.  255.  255.  255.  255.  255.  255.\n",
      "  255.  255.  255.  255.  255.  255.  255.  255.  255.  255.  255.  255.\n",
      "  255.  255.  255.  255.  255.  255.  255.  255.  255.  255.  255.  255.\n",
      "  255.  255.  255.  255.  255.  255.  255.  255.  255.  255.  255.  255.\n",
      "  255.  255.  255.  255.  255.]\n"
     ]
    }
   ],
   "source": [
    "print(mask_array[21][0])"
   ]
  },
  {
   "cell_type": "code",
   "execution_count": 7,
   "metadata": {},
   "outputs": [
    {
     "name": "stdout",
     "output_type": "stream",
     "text": [
      "[[   0.    0.    0. ...,  255.  255.  255.]\n",
      " [   0.    0.    0. ...,  255.  255.  255.]\n",
      " [   0.    0.    0. ...,  255.  255.  255.]\n",
      " ..., \n",
      " [   0.    0.    0. ...,    0.    0.    0.]\n",
      " [   0.    0.    0. ...,    0.    0.    0.]\n",
      " [   0.    0.    0. ...,    0.    0.    0.]]\n",
      "(4000, 101, 101)\n"
     ]
    }
   ],
   "source": [
    "# Inspection of mask_array and m_array\n",
    "print(mask_array[21])\n",
    "m_array = np.asarray(mask_array)\n",
    "print(m_array.shape)"
   ]
  },
  {
   "cell_type": "code",
   "execution_count": 23,
   "metadata": {},
   "outputs": [
    {
     "name": "stdout",
     "output_type": "stream",
     "text": [
      "[ 61.  60.  60.  60.  59.  59.  59.  58.  58.  58.  57.  57.  57.  56.  56.\n",
      "  55.  55.  54.  54.  53.  53.  52.  52.  51.  51.  50.  49.  48.  47.  46.\n",
      "  45.  45.  43.  42.  41.  40.  38.  37.  35.  33.  32.  30.  29.  27.  26.\n",
      "  25.  24.  22.  21.  20.  19.  17.  16.  14.  13.  12.  10.   9.   7.   6.\n",
      "   3.   0.   0.   0.   0.   0.   0.   0.   0.   0.   0.   0.   0.   0.   0.\n",
      "   0.   0.   0.   0.   0.   0.   0.   0.   0.   0.   0.   0.   0.   0.   0.\n",
      "   0.   0.   0.   0.   0.   0.   0.   0.   0.   0.   0.]\n"
     ]
    }
   ],
   "source": [
    "## Checking for a single image\n",
    "\n",
    "## Counting the number salt pixels in each row the mask\n",
    "\n",
    "salt_img = np.zeros(m_array.shape[0])\n",
    "\n",
    "for i in range(1):  \n",
    "    img = m_array[21]\n",
    "    \n",
    "    salt_row = np.zeros(101)\n",
    "    for j in range(m_array.shape[1]):\n",
    "        row = img[j]\n",
    "        \n",
    "        for k in range(101):\n",
    "            pixel = row[k]\n",
    "            salt_row[j] +=pixel\n",
    "    salt_row = salt_row/255\n",
    "    print(salt_row)"
   ]
  },
  {
   "cell_type": "code",
   "execution_count": 42,
   "metadata": {},
   "outputs": [
    {
     "name": "stdout",
     "output_type": "stream",
     "text": [
      "salt image : [ 2426.     0.     0. ...,     0.     0.     0.]\n",
      "shape of salt_img : (4000,)\n"
     ]
    }
   ],
   "source": [
    "## Checking for a single image\n",
    "\n",
    "## Counting the number salt pixels in each mask\n",
    "\n",
    "salt_img = np.zeros(m_array.shape[0])\n",
    "\n",
    "for i in range(1):  \n",
    "    img = m_array[21]\n",
    "    \n",
    "    salt_row = np.zeros(101)\n",
    "    for j in range(m_array.shape[1]):\n",
    "        row = img[j]\n",
    "        \n",
    "        for k in range(101):\n",
    "            pixel = row[k]\n",
    "            salt_row[j] +=pixel\n",
    "        \n",
    "        salt_img[i] += salt_row[j]\n",
    "\n",
    "salt_img = salt_img/255\n",
    "    \n",
    "print('salt image :',salt_img)\n",
    "print('shape of salt_img :',salt_img.shape)"
   ]
  },
  {
   "cell_type": "code",
   "execution_count": 43,
   "metadata": {},
   "outputs": [
    {
     "name": "stdout",
     "output_type": "stream",
     "text": [
      "salt image : [    0.   336.     0. ...,     0.   886.  7187.]\n",
      "shape of salt_img : (4000,)\n"
     ]
    }
   ],
   "source": [
    "## Checking for all images\n",
    "\n",
    "## Counting the number salt pixels in each mask\n",
    "\n",
    "salt_img = np.zeros(m_array.shape[0])\n",
    "\n",
    "for i in range(m_array.shape[0]):  \n",
    "    img = m_array[i]\n",
    "    \n",
    "    salt_row = np.zeros(101)\n",
    "    for j in range(m_array.shape[1]):\n",
    "        row = img[j]\n",
    "        \n",
    "        for k in range(101):\n",
    "            pixel = row[k]\n",
    "            salt_row[j] +=pixel\n",
    "        \n",
    "        salt_img[i] += salt_row[j]\n",
    "\n",
    "salt_img = salt_img/255\n",
    "    \n",
    "print('salt image :',salt_img)\n",
    "print('shape of salt_img :',salt_img.shape)"
   ]
  },
  {
   "cell_type": "code",
   "execution_count": 54,
   "metadata": {},
   "outputs": [
    {
     "data": {
      "text/html": [
       "<div>\n",
       "<style scoped>\n",
       "    .dataframe tbody tr th:only-of-type {\n",
       "        vertical-align: middle;\n",
       "    }\n",
       "\n",
       "    .dataframe tbody tr th {\n",
       "        vertical-align: top;\n",
       "    }\n",
       "\n",
       "    .dataframe thead th {\n",
       "        text-align: right;\n",
       "    }\n",
       "</style>\n",
       "<table border=\"1\" class=\"dataframe\">\n",
       "  <thead>\n",
       "    <tr style=\"text-align: right;\">\n",
       "      <th></th>\n",
       "      <th>ids</th>\n",
       "      <th>salt per img</th>\n",
       "    </tr>\n",
       "  </thead>\n",
       "  <tbody>\n",
       "    <tr>\n",
       "      <th>0</th>\n",
       "      <td>000e218f21.png</td>\n",
       "      <td>0.0</td>\n",
       "    </tr>\n",
       "    <tr>\n",
       "      <th>1</th>\n",
       "      <td>003c477d7c.png</td>\n",
       "      <td>336.0</td>\n",
       "    </tr>\n",
       "    <tr>\n",
       "      <th>2</th>\n",
       "      <td>00441f1cf2.png</td>\n",
       "      <td>0.0</td>\n",
       "    </tr>\n",
       "    <tr>\n",
       "      <th>3</th>\n",
       "      <td>0050766ae2.png</td>\n",
       "      <td>0.0</td>\n",
       "    </tr>\n",
       "    <tr>\n",
       "      <th>4</th>\n",
       "      <td>005b452274.png</td>\n",
       "      <td>0.0</td>\n",
       "    </tr>\n",
       "  </tbody>\n",
       "</table>\n",
       "</div>"
      ],
      "text/plain": [
       "              ids  salt per img\n",
       "0  000e218f21.png           0.0\n",
       "1  003c477d7c.png         336.0\n",
       "2  00441f1cf2.png           0.0\n",
       "3  0050766ae2.png           0.0\n",
       "4  005b452274.png           0.0"
      ]
     },
     "execution_count": 54,
     "metadata": {},
     "output_type": "execute_result"
    }
   ],
   "source": [
    "df = pd.DataFrame(train_ids, columns=['id'])\n",
    "df['salt per img'] = pd.DataFrame(salt_img)\n",
    "df.head()"
   ]
  },
  {
   "cell_type": "code",
   "execution_count": 56,
   "metadata": {},
   "outputs": [
    {
     "data": {
      "text/html": [
       "<div>\n",
       "<style scoped>\n",
       "    .dataframe tbody tr th:only-of-type {\n",
       "        vertical-align: middle;\n",
       "    }\n",
       "\n",
       "    .dataframe tbody tr th {\n",
       "        vertical-align: top;\n",
       "    }\n",
       "\n",
       "    .dataframe thead th {\n",
       "        text-align: right;\n",
       "    }\n",
       "</style>\n",
       "<table border=\"1\" class=\"dataframe\">\n",
       "  <thead>\n",
       "    <tr style=\"text-align: right;\">\n",
       "      <th></th>\n",
       "      <th>id</th>\n",
       "      <th>z</th>\n",
       "    </tr>\n",
       "  </thead>\n",
       "  <tbody>\n",
       "    <tr>\n",
       "      <th>0</th>\n",
       "      <td>4ac19fb269</td>\n",
       "      <td>306</td>\n",
       "    </tr>\n",
       "    <tr>\n",
       "      <th>1</th>\n",
       "      <td>1825fadf99</td>\n",
       "      <td>157</td>\n",
       "    </tr>\n",
       "    <tr>\n",
       "      <th>2</th>\n",
       "      <td>f59821d067</td>\n",
       "      <td>305</td>\n",
       "    </tr>\n",
       "    <tr>\n",
       "      <th>3</th>\n",
       "      <td>5b435fad9d</td>\n",
       "      <td>503</td>\n",
       "    </tr>\n",
       "    <tr>\n",
       "      <th>4</th>\n",
       "      <td>e340e7bfca</td>\n",
       "      <td>783</td>\n",
       "    </tr>\n",
       "  </tbody>\n",
       "</table>\n",
       "</div>"
      ],
      "text/plain": [
       "           id    z\n",
       "0  4ac19fb269  306\n",
       "1  1825fadf99  157\n",
       "2  f59821d067  305\n",
       "3  5b435fad9d  503\n",
       "4  e340e7bfca  783"
      ]
     },
     "execution_count": 56,
     "metadata": {},
     "output_type": "execute_result"
    }
   ],
   "source": [
    "file = pd.read_csv('data/depths.csv')\n",
    "df_depth = pd.DataFrame(file)\n",
    "df_depth.head()"
   ]
  },
  {
   "cell_type": "markdown",
   "metadata": {},
   "source": [
    "OOops! we can not merge them the id column of both the data frames are different.\n",
    "> pd.merge(df,df_depths,on=['id'])"
   ]
  },
  {
   "cell_type": "code",
   "execution_count": 63,
   "metadata": {},
   "outputs": [
    {
     "data": {
      "text/plain": [
       "['000e218f21.png',\n",
       " '003c477d7c.png',\n",
       " '00441f1cf2.png',\n",
       " '0050766ae2.png',\n",
       " '005b452274.png',\n",
       " '0061281eea.png',\n",
       " '008a50a2ec.png',\n",
       " '00950d1627.png',\n",
       " '00a3af90ab.png',\n",
       " '00cda0328c.png']"
      ]
     },
     "execution_count": 63,
     "metadata": {},
     "output_type": "execute_result"
    }
   ],
   "source": [
    "train_ids[:10]"
   ]
  },
  {
   "cell_type": "code",
   "execution_count": 73,
   "metadata": {},
   "outputs": [
    {
     "name": "stdout",
     "output_type": "stream",
     "text": [
      "['000e218f21', '003c477d7c', '00441f1cf2', '0050766ae2', '005b452274', '0061281eea', '008a50a2ec', '00950d1627', '00a3af90ab', '00cda0328c']\n"
     ]
    }
   ],
   "source": [
    "for i in range(len(train_ids)):\n",
    "    train_ids[i] = train_ids[i][:10]\n",
    "\n",
    "print(train_ids[:10])"
   ]
  },
  {
   "cell_type": "code",
   "execution_count": 76,
   "metadata": {
    "scrolled": true
   },
   "outputs": [
    {
     "data": {
      "text/html": [
       "<div>\n",
       "<style scoped>\n",
       "    .dataframe tbody tr th:only-of-type {\n",
       "        vertical-align: middle;\n",
       "    }\n",
       "\n",
       "    .dataframe tbody tr th {\n",
       "        vertical-align: top;\n",
       "    }\n",
       "\n",
       "    .dataframe thead th {\n",
       "        text-align: right;\n",
       "    }\n",
       "</style>\n",
       "<table border=\"1\" class=\"dataframe\">\n",
       "  <thead>\n",
       "    <tr style=\"text-align: right;\">\n",
       "      <th></th>\n",
       "      <th>id</th>\n",
       "      <th>salt per img</th>\n",
       "    </tr>\n",
       "  </thead>\n",
       "  <tbody>\n",
       "    <tr>\n",
       "      <th>0</th>\n",
       "      <td>000e218f21</td>\n",
       "      <td>0.0</td>\n",
       "    </tr>\n",
       "    <tr>\n",
       "      <th>1</th>\n",
       "      <td>003c477d7c</td>\n",
       "      <td>336.0</td>\n",
       "    </tr>\n",
       "    <tr>\n",
       "      <th>2</th>\n",
       "      <td>00441f1cf2</td>\n",
       "      <td>0.0</td>\n",
       "    </tr>\n",
       "    <tr>\n",
       "      <th>3</th>\n",
       "      <td>0050766ae2</td>\n",
       "      <td>0.0</td>\n",
       "    </tr>\n",
       "    <tr>\n",
       "      <th>4</th>\n",
       "      <td>005b452274</td>\n",
       "      <td>0.0</td>\n",
       "    </tr>\n",
       "  </tbody>\n",
       "</table>\n",
       "</div>"
      ],
      "text/plain": [
       "           id  salt per img\n",
       "0  000e218f21           0.0\n",
       "1  003c477d7c         336.0\n",
       "2  00441f1cf2           0.0\n",
       "3  0050766ae2           0.0\n",
       "4  005b452274           0.0"
      ]
     },
     "execution_count": 76,
     "metadata": {},
     "output_type": "execute_result"
    }
   ],
   "source": [
    "df1 = pd.DataFrame(train_ids, columns=['id'])\n",
    "df1['salt per img'] = pd.DataFrame(salt_img)\n",
    "df1.head()"
   ]
  },
  {
   "cell_type": "code",
   "execution_count": 82,
   "metadata": {},
   "outputs": [
    {
     "data": {
      "text/html": [
       "<div>\n",
       "<style scoped>\n",
       "    .dataframe tbody tr th:only-of-type {\n",
       "        vertical-align: middle;\n",
       "    }\n",
       "\n",
       "    .dataframe tbody tr th {\n",
       "        vertical-align: top;\n",
       "    }\n",
       "\n",
       "    .dataframe thead th {\n",
       "        text-align: right;\n",
       "    }\n",
       "</style>\n",
       "<table border=\"1\" class=\"dataframe\">\n",
       "  <thead>\n",
       "    <tr style=\"text-align: right;\">\n",
       "      <th></th>\n",
       "      <th>id</th>\n",
       "      <th>salt per img</th>\n",
       "      <th>z</th>\n",
       "    </tr>\n",
       "  </thead>\n",
       "  <tbody>\n",
       "    <tr>\n",
       "      <th>0</th>\n",
       "      <td>000e218f21</td>\n",
       "      <td>0.0</td>\n",
       "      <td>841</td>\n",
       "    </tr>\n",
       "    <tr>\n",
       "      <th>1</th>\n",
       "      <td>003c477d7c</td>\n",
       "      <td>336.0</td>\n",
       "      <td>673</td>\n",
       "    </tr>\n",
       "    <tr>\n",
       "      <th>2</th>\n",
       "      <td>00441f1cf2</td>\n",
       "      <td>0.0</td>\n",
       "      <td>330</td>\n",
       "    </tr>\n",
       "    <tr>\n",
       "      <th>3</th>\n",
       "      <td>0050766ae2</td>\n",
       "      <td>0.0</td>\n",
       "      <td>835</td>\n",
       "    </tr>\n",
       "    <tr>\n",
       "      <th>4</th>\n",
       "      <td>005b452274</td>\n",
       "      <td>0.0</td>\n",
       "      <td>657</td>\n",
       "    </tr>\n",
       "  </tbody>\n",
       "</table>\n",
       "</div>"
      ],
      "text/plain": [
       "           id  salt per img    z\n",
       "0  000e218f21           0.0  841\n",
       "1  003c477d7c         336.0  673\n",
       "2  00441f1cf2           0.0  330\n",
       "3  0050766ae2           0.0  835\n",
       "4  005b452274           0.0  657"
      ]
     },
     "execution_count": 82,
     "metadata": {},
     "output_type": "execute_result"
    }
   ],
   "source": [
    "file = pd.read_csv('data/depths.csv')\n",
    "df_depths = pd.DataFrame(file)\n",
    "df_depths.head()\n",
    "\n",
    "fdf = pd.merge(df1,df_depths,on=['id'])\n",
    "fdf.head()"
   ]
  },
  {
   "cell_type": "code",
   "execution_count": 85,
   "metadata": {},
   "outputs": [
    {
     "data": {
      "image/png": "[encoded data removed]",
      "text/plain": [
       "<Figure size 432x288 with 1 Axes>"
      ]
     },
     "metadata": {},
     "output_type": "display_data"
    }
   ],
   "source": [
    "plt.scatter(fdf['z'],fdf['salt per img'],marker='.')\n",
    "plt.show()"
   ]
  },
  {
   "cell_type": "markdown",
   "metadata": {},
   "source": [
    "No correlation between depth and salt per img values"
   ]
  },
  {
   "cell_type": "markdown",
   "metadata": {},
   "source": [
    "### Empty masks"
   ]
  },
  {
   "cell_type": "code",
   "execution_count": 101,
   "metadata": {},
   "outputs": [
    {
     "name": "stdout",
     "output_type": "stream",
     "text": [
      "(1562,)\n"
     ]
    }
   ],
   "source": [
    "depth_zero = []\n",
    "for i in range(len(fdf['z'])):\n",
    "    if (fdf['salt per img'][i] == 0):\n",
    "        depth_zero.append(fdf['z'][i])\n",
    "depth_zero = np.asarray(depth_zero)\n",
    "print(depth_zero.shape)"
   ]
  },
  {
   "cell_type": "markdown",
   "metadata": {},
   "source": [
    "Number of masks with no salt on them are 1562"
   ]
  },
  {
   "cell_type": "code",
   "execution_count": 106,
   "metadata": {},
   "outputs": [
    {
     "name": "stdout",
     "output_type": "stream",
     "text": [
      "min_depth : 51\n",
      "max_depth : 956\n"
     ]
    }
   ],
   "source": [
    "print('min_depth :',depth_zero.min())\n",
    "print('max_depth :',depth_zero.max())"
   ]
  },
  {
   "cell_type": "markdown",
   "metadata": {},
   "source": [
    "Plotting empty masks"
   ]
  },
  {
   "cell_type": "code",
   "execution_count": 114,
   "metadata": {},
   "outputs": [
    {
     "data": {
      "image/png": "[encoded data removed]",
      "text/plain": [
       "<Figure size 432x288 with 4 Axes>"
      ]
     },
     "metadata": {},
     "output_type": "display_data"
    }
   ],
   "source": [
    "plt.subplot(2, 2, 1)\n",
    "plt.hist(depth_zero,bins=95)\n",
    "plt.title('95_bins')\n",
    "\n",
    "plt.subplot(2, 2, 2)\n",
    "plt.hist(depth_zero,bins=38)\n",
    "plt.title('38_bins')\n",
    "\n",
    "plt.subplot(2, 2, 3)\n",
    "plt.hist(depth_zero,bins=19)\n",
    "plt.title('19_bins')\n",
    "\n",
    "plt.subplot(2, 2, 4)\n",
    "plt.hist(depth_zero,bins=10)\n",
    "plt.title('10_bins')\n",
    "\n",
    "plt.show()"
   ]
  },
  {
   "cell_type": "markdown",
   "metadata": {},
   "source": [
    "Not much of a pattern, but it looks like that we have more number of empty masks for lower depth then the number of empty masks decrease a little bit and then increase again."
   ]
  },
  {
   "cell_type": "markdown",
   "metadata": {},
   "source": [
    "## salt masks"
   ]
  },
  {
   "cell_type": "code",
   "execution_count": 115,
   "metadata": {},
   "outputs": [
    {
     "name": "stdout",
     "output_type": "stream",
     "text": [
      "(2438,)\n"
     ]
    }
   ],
   "source": [
    "depth_salt = []\n",
    "for i in range(len(fdf['z'])):\n",
    "    if (fdf['salt per img'][i] != 0):\n",
    "        depth_salt.append(fdf['z'][i])\n",
    "depth_salt = np.asarray(depth_salt)\n",
    "print(depth_salt.shape)"
   ]
  },
  {
   "cell_type": "code",
   "execution_count": 117,
   "metadata": {},
   "outputs": [
    {
     "data": {
      "image/png": "[encoded data removed]",
      "text/plain": [
       "<Figure size 432x288 with 1 Axes>"
      ]
     },
     "metadata": {},
     "output_type": "display_data"
    }
   ],
   "source": [
    "plt.hist(depth_salt,bins=95)\n",
    "plt.title('95_bins')\n",
    "\n",
    "plt.show()"
   ]
  },
  {
   "cell_type": "markdown",
   "metadata": {},
   "source": [
    "Most of the salt containing masks are between 250 and 800m depth"
   ]
  },
  {
   "cell_type": "code",
   "execution_count": 124,
   "metadata": {},
   "outputs": [
    {
     "data": {
      "image/png": "[encoded data removed]",
      "text/plain": [
       "<Figure size 432x288 with 1 Axes>"
      ]
     },
     "metadata": {},
     "output_type": "display_data"
    }
   ],
   "source": [
    "x_multi = [x for x in [depth_salt, depth_zero]]\n",
    "\n",
    "plt.hist(x_multi,bins=38)\n",
    "plt.show()\n"
   ]
  },
  {
   "cell_type": "markdown",
   "metadata": {},
   "source": [
    "This one tells us something"
   ]
  },
  {
   "cell_type": "markdown",
   "metadata": {},
   "source": [
    "Maybe we should now compare the number of salt pixels among these, then we can check if the highest values of salt pixels lie between 350 and 800m."
   ]
  },
  {
   "cell_type": "code",
   "execution_count": null,
   "metadata": {},
   "outputs": [],
   "source": []
  }
 ],
 "metadata": {
  "kernelspec": {
   "display_name": "Python 3",
   "language": "python",
   "name": "python3"
  },
  "language_info": {
   "codemirror_mode": {
    "name": "ipython",
    "version": 3
   },
   "file_extension": ".py",
   "mimetype": "text/x-python",
   "name": "python",
   "nbconvert_exporter": "python",
   "pygments_lexer": "ipython3",
   "version": "3.6.8"
  }
 },
 "nbformat": 4,
 "nbformat_minor": 2
}
